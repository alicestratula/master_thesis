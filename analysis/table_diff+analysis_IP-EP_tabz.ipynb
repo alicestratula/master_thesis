{
 "cells": [
  {
   "cell_type": "code",
   "execution_count": 1,
   "id": "76a41ee8",
   "metadata": {},
   "outputs": [],
   "source": [
    "import pandas as pd"
   ]
  },
  {
   "cell_type": "code",
   "execution_count": 2,
   "id": "5807f507",
   "metadata": {},
   "outputs": [],
   "source": [
    "rename_map = {\n",
    "    'ConstantPredictor': 'Const.',\n",
    "    'FTTransformer': 'FT-Trans.',\n",
    "    'LGBMRegressor': 'GBT',\n",
    "    'LGBMClassifier': 'GBT',\n",
    "    'LinearRegressor': 'Lin. Regr.',\n",
    "    'RandomForestRegressor': 'RF',\n",
    "    'RandomForestClassifier': 'RF',\n",
    "    'ResNet': 'ResNet',\n",
    "    'TabPFNRegressor': 'TabPFN',\n",
    "    'TabPFNClassifier': 'TabPFN',\n",
    "    'LogisticRegressor': 'Log. Regr.',\n",
    "    'GPBoost_LogLoss': 'GP',\n",
    "    'GPBoost_Accuracy': 'GP',\n",
    "    'GPBoost_CRPS': 'GP',\n",
    "    'GPBoost_RMSE': 'GP'\n",
    "\n",
    "}\n"
   ]
  },
  {
   "cell_type": "markdown",
   "id": "e454a3ce",
   "metadata": {},
   "source": [
    "Average Difference and Average Relative Difference LOGLOSS"
   ]
  },
  {
   "cell_type": "code",
   "execution_count": 3,
   "id": "ac3ddb6b",
   "metadata": {},
   "outputs": [],
   "source": [
    "df = pd.read_csv(\"results_tabz.csv\")\n",
    "metric3 = \"LogLoss\"\n",
    "df3 = df[df[\"metric\"] == metric3]"
   ]
  },
  {
   "cell_type": "code",
   "execution_count": 4,
   "id": "87985978",
   "metadata": {},
   "outputs": [
    {
     "name": "stdout",
     "output_type": "stream",
     "text": [
      "Average relative difference (Extrapolation vs. Interpolation) - LogLoss (%):\n",
      "model\n",
      "Const.          16.8612\n",
      "Engression     117.3158\n",
      "FT-Trans.       15.7227\n",
      "GP              17.5741\n",
      "GBT           1042.8962\n",
      "Log. Regr.      40.0831\n",
      "MLP             37.8226\n",
      "RF              11.4230\n",
      "ResNet          31.6365\n",
      "TabPFN          19.5143\n",
      "dtype: float64\n",
      "\n",
      "Median relative difference (Extrapolation vs. Interpolation) - LogLoss (%):\n",
      "model\n",
      "Const.         7.3146\n",
      "Engression    17.9828\n",
      "FT-Trans.      8.7385\n",
      "GP             6.0065\n",
      "GBT           16.0764\n",
      "Log. Regr.     9.6888\n",
      "MLP           16.4179\n",
      "RF             6.3712\n",
      "ResNet        12.1862\n",
      "TabPFN        12.3249\n",
      "dtype: float64\n"
     ]
    }
   ],
   "source": [
    "\n",
    "df3_ip = df3[df3[\"split_method\"] == \"random_split\"]\n",
    "df3_ep = df3[df3[\"split_method\"] != \"random_split\"]\n",
    "\n",
    "pivot_ip = (\n",
    "    df3_ip\n",
    "    .pivot_table(index=\"task_id\", columns=\"model\", values=\"value\", aggfunc=\"mean\")\n",
    "    .rename(columns=rename_map)\n",
    ")\n",
    "pivot_ep = (\n",
    "    df3_ep\n",
    "    .pivot_table(index=\"task_id\", columns=\"model\", values=\"value\", aggfunc=\"mean\")\n",
    "    .rename(columns=rename_map)\n",
    ")\n",
    "\n",
    "pivot_rel_diff = (pivot_ep - pivot_ip).div(pivot_ip) * 100\n",
    "\n",
    "avg_diff    = pivot_rel_diff.mean(axis=0)\n",
    "median_diff = pivot_rel_diff.median(axis=0)\n",
    "\n",
    "print(f\"Average relative difference (Extrapolation vs. Interpolation) - {metric3} (%):\")\n",
    "print(avg_diff.round(4))\n",
    "print(f\"\\nMedian relative difference (Extrapolation vs. Interpolation) - {metric3} (%):\")\n",
    "print(median_diff.round(4))\n",
    "\n",
    "metrics = pd.DataFrame([avg_diff, median_diff], index=[\"Avg. diff.\", \"Median diff.\"])\n",
    "pivot_with_summary = pd.concat([pivot_rel_diff, metrics])\n",
    "\n",
    "out = pivot_with_summary.reset_index().rename(columns={\"index\": \"task_id\"})\n",
    "out.to_csv(f\"avg_{metric3}_exp_vs_ip_diff_tabz.csv\", float_format=\"%.3f\", index=False)\n",
    "\n",
    "latex = out.to_latex(index=False, escape=True, float_format=\"%.3f\")\n",
    "with open(f\"tabz_{metric3}_exp_vs_ip_results.tex\", \"w\") as f:\n",
    "    f.write(latex)\n"
   ]
  },
  {
   "cell_type": "markdown",
   "id": "03c2b2ee",
   "metadata": {},
   "source": [
    "Average Difference and Average Relative Difference Accuracy"
   ]
  },
  {
   "cell_type": "code",
   "execution_count": 5,
   "id": "17c75d43",
   "metadata": {},
   "outputs": [],
   "source": [
    "df = pd.read_csv(\"results_tabz.csv\")\n",
    "metric4 = \"Accuracy\"\n",
    "df4 = df[df[\"metric\"] == metric4]"
   ]
  },
  {
   "cell_type": "code",
   "execution_count": 6,
   "id": "f27bc47b",
   "metadata": {},
   "outputs": [
    {
     "name": "stdout",
     "output_type": "stream",
     "text": [
      "Average relative difference (Extrapolation vs. Interpolation) - Accuracy (%):\n",
      "model\n",
      "Const.        18.44\n",
      "Engression   -25.25\n",
      "FT-Trans.      -inf\n",
      "GP             -inf\n",
      "GBT            7.21\n",
      "Log. Regr.     5.11\n",
      "MLP          -25.87\n",
      "RF             6.63\n",
      "ResNet       -79.06\n",
      "TabPFN         3.93\n",
      "dtype: float64\n",
      "\n",
      "Median relative difference (Extrapolation vs. Interpolation) - Accuracy (%):\n",
      "model\n",
      "Const.        9.38\n",
      "Engression    1.97\n",
      "FT-Trans.     5.21\n",
      "GP            4.93\n",
      "GBT           3.36\n",
      "Log. Regr.    2.95\n",
      "MLP           4.46\n",
      "RF            2.13\n",
      "ResNet        1.95\n",
      "TabPFN        1.98\n",
      "dtype: float64\n"
     ]
    }
   ],
   "source": [
    "\n",
    "df4_ip = df4[df4[\"split_method\"] == \"random_split\"]\n",
    "df4_ep = df4[df4[\"split_method\"] != \"random_split\"]\n",
    "\n",
    "pivot_ip = (\n",
    "    df4_ip\n",
    "    .pivot_table(index=\"task_id\", columns=\"model\", values=\"value\", aggfunc=\"mean\")\n",
    "    .rename(columns=rename_map)\n",
    ")\n",
    "pivot_ep = (\n",
    "    df4_ep\n",
    "    .pivot_table(index=\"task_id\", columns=\"model\", values=\"value\", aggfunc=\"mean\")\n",
    "    .rename(columns=rename_map)\n",
    ")\n",
    "\n",
    "pivot_rel_diff = (pivot_ip - pivot_ep).div(pivot_ip) * 100\n",
    "\n",
    "avg_diff    = pivot_rel_diff.mean(axis=0)\n",
    "median_diff = pivot_rel_diff.median(axis=0)\n",
    "\n",
    "print(f\"Average relative difference (Extrapolation vs. Interpolation) - {metric4} (%):\")\n",
    "print(avg_diff.round(2))\n",
    "print(f\"\\nMedian relative difference (Extrapolation vs. Interpolation) - {metric4} (%):\")\n",
    "print(median_diff.round(2))\n",
    "\n",
    "metrics = pd.DataFrame([avg_diff, median_diff], index=[\"Avg. diff.\", \"Median diff.\"])\n",
    "pivot_with_summary = pd.concat([pivot_rel_diff, metrics])\n",
    "\n",
    "out = pivot_with_summary.reset_index().rename(columns={\"index\": \"task_id\"})\n",
    "out.to_csv(f\"avg_{metric4}_exp_vs_ip_diff_tabz.csv\", float_format=\"%.3f\", index=False)\n",
    "\n",
    "latex = out.to_latex(index=False, escape=True, float_format=\"%.3f\")\n",
    "with open(f\"tabz_{metric4}_exp_vs_ip_results.tex\", \"w\") as f:\n",
    "    f.write(latex)\n"
   ]
  },
  {
   "cell_type": "code",
   "execution_count": null,
   "id": "c6bc6dd6",
   "metadata": {},
   "outputs": [],
   "source": []
  }
 ],
 "metadata": {
  "kernelspec": {
   "display_name": "master-thesis",
   "language": "python",
   "name": "python3"
  },
  "language_info": {
   "codemirror_mode": {
    "name": "ipython",
    "version": 3
   },
   "file_extension": ".py",
   "mimetype": "text/x-python",
   "name": "python",
   "nbconvert_exporter": "python",
   "pygments_lexer": "ipython3",
   "version": "3.10.16"
  }
 },
 "nbformat": 4,
 "nbformat_minor": 5
}
