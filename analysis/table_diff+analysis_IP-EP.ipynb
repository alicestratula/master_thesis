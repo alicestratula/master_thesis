{
 "cells": [
  {
   "cell_type": "code",
   "execution_count": 1,
   "id": "76a41ee8",
   "metadata": {},
   "outputs": [],
   "source": [
    "import pandas as pd"
   ]
  },
  {
   "cell_type": "code",
   "execution_count": 2,
   "id": "5807f507",
   "metadata": {},
   "outputs": [],
   "source": [
    "rename_map = {\n",
    "    'ConstantPredictor': 'Const.',\n",
    "    'FTTransformer': 'FT-Trans.',\n",
    "    'LGBMRegressor': 'GBT',\n",
    "    'LGBMClassifier': 'GBT',\n",
    "    'LinearRegressor': 'Lin. Regr.',\n",
    "    'RandomForestRegressor': 'RF',\n",
    "    'RandomForestClassifier': 'RF',\n",
    "    'ResNet': 'ResNet',\n",
    "    'TabPFNRegressor': 'TabPFN',\n",
    "    'TabPFNClassifier': 'TabPFN',\n",
    "    'LogisticRegressor': 'Log. Regr.',\n",
    "    'GPBoost_LogLoss': 'GP',\n",
    "    'GPBoost_Accuracy': 'GP',\n",
    "    'GPBoost_CRPS': 'GP',\n",
    "    'GPBoost_RMSE': 'GP'\n",
    "\n",
    "}\n"
   ]
  },
  {
   "cell_type": "markdown",
   "id": "8e16ab74",
   "metadata": {},
   "source": [
    "Average Difference and Average Relative Difference RMSE"
   ]
  },
  {
   "cell_type": "code",
   "execution_count": 3,
   "id": "632ff37d",
   "metadata": {},
   "outputs": [],
   "source": [
    "df = pd.read_csv(\"results_full.csv\")\n",
    "metric = \"RMSE\"\n",
    "df1 = df[df[\"metric\"] == metric]"
   ]
  },
  {
   "cell_type": "code",
   "execution_count": 4,
   "id": "e545af12",
   "metadata": {},
   "outputs": [
    {
     "name": "stdout",
     "output_type": "stream",
     "text": [
      "Average relative difference (Extrapolation vs. Interpolation) - RMSE (%):\n",
      "model\n",
      "Const.          21.67\n",
      "Engression     675.11\n",
      "FT-Trans.      115.37\n",
      "GP             583.11\n",
      "GBT            583.84\n",
      "Lin. Regr.    6196.27\n",
      "MLP            176.45\n",
      "RF             290.80\n",
      "ResNet         132.00\n",
      "TabPFN         301.99\n",
      "dtype: float64\n",
      "\n",
      "Median relative difference (Extrapolation vs. Interpolation) - RMSE (%):\n",
      "model\n",
      "Const.        19.47\n",
      "Engression    70.33\n",
      "FT-Trans.     29.53\n",
      "GP            57.31\n",
      "GBT           24.30\n",
      "Lin. Regr.    48.09\n",
      "MLP           42.44\n",
      "RF            25.23\n",
      "ResNet        47.41\n",
      "TabPFN        26.76\n",
      "dtype: float64\n"
     ]
    }
   ],
   "source": [
    "df_ip = df1[df1[\"split_method\"] == \"random_split\"]\n",
    "pivot_ip = (\n",
    "    df_ip\n",
    "    .pivot_table(index=\"task_id\", columns=\"model\", values=\"value\", aggfunc=\"mean\")\n",
    "    .rename(columns=rename_map)\n",
    ")\n",
    "\n",
    "df_ep = df1[df1[\"split_method\"] != \"random_split\"]\n",
    "pivot_ep = (\n",
    "    df_ep\n",
    "    .pivot_table(index=\"task_id\", columns=\"model\", values=\"value\", aggfunc=\"mean\")\n",
    "    .rename(columns=rename_map)\n",
    ")\n",
    "\n",
    "pivot_rel_diff = (pivot_ep - pivot_ip).div(pivot_ip) * 100\n",
    "\n",
    "# 5. Average across tasks\n",
    "avg_diff = pivot_rel_diff.mean(axis=0)\n",
    "median_diff = pivot_rel_diff.median(axis=0)\n",
    "\n",
    "# 6. Print a quick summary\n",
    "print(\"Average relative difference (Extrapolation vs. Interpolation) - RMSE (%):\")\n",
    "print(avg_diff.round(2))\n",
    "\n",
    "print(\"\\nMedian relative difference (Extrapolation vs. Interpolation) - RMSE (%):\")\n",
    "print(median_diff.round(2))\n",
    "\n",
    "# 7. Append the “Avg. diff.” row and write out\n",
    "metrics = pd.DataFrame([avg_diff, median_diff], index=[\"Avg. diff.\", \"Median diff.\"])\n",
    "pivot_with_summary = pd.concat([pivot_rel_diff, metrics])\n",
    "\n",
    "# 8. Reset index & save CSV\n",
    "out = pivot_with_summary.reset_index().rename(columns={\"index\":\"task_id\"})\n",
    "out.to_csv(f\"avg_{metric}_exp_vs_ip_diff.csv\", float_format=\"%.3f\", index=False)\n",
    "\n",
    "# 9. And write out LaTeX\n",
    "latex = out.to_latex(index=False, escape=True, float_format=\"%.3f\")\n",
    "with open(f\"{metric}_exp_vs_ip_results.tex\", \"w\") as f:\n",
    "    f.write(latex)\n"
   ]
  },
  {
   "cell_type": "markdown",
   "id": "a96611d6",
   "metadata": {},
   "source": [
    "Average Difference and Average Relative Difference CRPS"
   ]
  },
  {
   "cell_type": "code",
   "execution_count": 5,
   "id": "99640d8a",
   "metadata": {},
   "outputs": [],
   "source": [
    "df = pd.read_csv(\"results_full.csv\")\n",
    "metric2 = \"CRPS\"\n",
    "df2 = df[df[\"metric\"] == metric2]"
   ]
  },
  {
   "cell_type": "code",
   "execution_count": 6,
   "id": "89dce327",
   "metadata": {},
   "outputs": [
    {
     "name": "stdout",
     "output_type": "stream",
     "text": [
      "Average relative difference (Extrapolation vs. Interpolation) - CRPS (%):\n",
      "model\n",
      "Const.           28.83\n",
      "DGBT          23811.23\n",
      "DRF             444.24\n",
      "Engression      296.76\n",
      "FT-Trans.       108.65\n",
      "GP              325.09\n",
      "GBT            1492.50\n",
      "Lin. Regr.     1564.88\n",
      "MLP             156.15\n",
      "RF              401.26\n",
      "ResNet          188.50\n",
      "TabPFN          473.49\n",
      "dtype: float64\n",
      "\n",
      "Median relative difference (Extrapolation vs. Interpolation) - CRPS (%):\n",
      "model\n",
      "Const.        24.20\n",
      "DGBT          24.16\n",
      "DRF           28.01\n",
      "Engression    33.00\n",
      "FT-Trans.     48.54\n",
      "GP            57.35\n",
      "GBT           30.68\n",
      "Lin. Regr.    44.21\n",
      "MLP           30.79\n",
      "RF            30.03\n",
      "ResNet        46.71\n",
      "TabPFN        23.98\n",
      "dtype: float64\n"
     ]
    }
   ],
   "source": [
    "\n",
    "df2_ip = df2[df2[\"split_method\"] == \"random_split\"]\n",
    "df2_ep = df2[df2[\"split_method\"] != \"random_split\"]\n",
    "\n",
    "pivot_ip  = (\n",
    "    df2_ip\n",
    "    .pivot_table(index=\"task_id\", columns=\"model\", values=\"value\", aggfunc=\"mean\")\n",
    "    .rename(columns=rename_map)\n",
    ")\n",
    "pivot_ep  = (\n",
    "    df2_ep\n",
    "    .pivot_table(index=\"task_id\", columns=\"model\", values=\"value\", aggfunc=\"mean\")\n",
    "    .rename(columns=rename_map)\n",
    ")\n",
    "\n",
    "pivot_rel_diff = (pivot_ep - pivot_ip).div(pivot_ip) * 100\n",
    "\n",
    "avg_diff    = pivot_rel_diff.mean(axis=0)\n",
    "median_diff = pivot_rel_diff.median(axis=0)\n",
    "\n",
    "print(f\"Average relative difference (Extrapolation vs. Interpolation) - {metric2} (%):\")\n",
    "print(avg_diff.round(2))\n",
    "print(f\"\\nMedian relative difference (Extrapolation vs. Interpolation) - {metric2} (%):\")\n",
    "print(median_diff.round(2))\n",
    "\n",
    "metrics = pd.DataFrame(\n",
    "    [avg_diff, median_diff],\n",
    "    index=[\"Avg. diff.\", \"Median diff.\"]\n",
    ")\n",
    "pivot_with_summary = pd.concat([pivot_rel_diff, metrics])\n",
    "\n",
    "out = pivot_with_summary.reset_index().rename(columns={\"index\":\"task_id\"})\n",
    "out.to_csv(f\"avg_{metric2}_exp_vs_ip_diff.csv\", float_format=\"%.3f\", index=False)\n",
    "\n",
    "latex = out.to_latex(index=False, escape=True, float_format=\"%.3f\")\n",
    "with open(f\"{metric2}_exp_vs_ip_results.tex\", \"w\") as f:\n",
    "    f.write(latex)\n"
   ]
  },
  {
   "cell_type": "markdown",
   "id": "e454a3ce",
   "metadata": {},
   "source": [
    "Average Difference and Average Relative Difference LOGLOSS"
   ]
  },
  {
   "cell_type": "code",
   "execution_count": 7,
   "id": "ac3ddb6b",
   "metadata": {},
   "outputs": [],
   "source": [
    "df = pd.read_csv(\"results_full.csv\")\n",
    "metric3 = \"LogLoss\"\n",
    "df3 = df[df[\"metric\"] == metric3]"
   ]
  },
  {
   "cell_type": "code",
   "execution_count": 8,
   "id": "87985978",
   "metadata": {},
   "outputs": [
    {
     "name": "stdout",
     "output_type": "stream",
     "text": [
      "Average relative difference (Extrapolation vs. Interpolation) - LogLoss (%):\n",
      "model\n",
      "Const.         2.8571\n",
      "Engression    36.7068\n",
      "FT-Trans.      0.9885\n",
      "GP             6.7803\n",
      "GBT            4.6249\n",
      "Log. Regr.    23.3992\n",
      "MLP           13.9118\n",
      "RF             3.2200\n",
      "ResNet        13.3135\n",
      "TabPFN         3.9187\n",
      "dtype: float64\n",
      "\n",
      "Median relative difference (Extrapolation vs. Interpolation) - LogLoss (%):\n",
      "model\n",
      "Const.        0.5906\n",
      "Engression    8.9542\n",
      "FT-Trans.     0.8164\n",
      "GP            2.8076\n",
      "GBT           0.9353\n",
      "Log. Regr.    8.3515\n",
      "MLP           2.8838\n",
      "RF            0.6095\n",
      "ResNet        8.7686\n",
      "TabPFN        0.0279\n",
      "dtype: float64\n"
     ]
    }
   ],
   "source": [
    "\n",
    "df3_ip = df3[df3[\"split_method\"] == \"random_split\"]\n",
    "df3_ep = df3[df3[\"split_method\"] != \"random_split\"]\n",
    "\n",
    "pivot_ip = (\n",
    "    df3_ip\n",
    "    .pivot_table(index=\"task_id\", columns=\"model\", values=\"value\", aggfunc=\"mean\")\n",
    "    .rename(columns=rename_map)\n",
    ")\n",
    "pivot_ep = (\n",
    "    df3_ep\n",
    "    .pivot_table(index=\"task_id\", columns=\"model\", values=\"value\", aggfunc=\"mean\")\n",
    "    .rename(columns=rename_map)\n",
    ")\n",
    "\n",
    "pivot_rel_diff = (pivot_ep - pivot_ip).div(pivot_ip) * 100\n",
    "\n",
    "avg_diff    = pivot_rel_diff.mean(axis=0)\n",
    "median_diff = pivot_rel_diff.median(axis=0)\n",
    "\n",
    "print(f\"Average relative difference (Extrapolation vs. Interpolation) - {metric3} (%):\")\n",
    "print(avg_diff.round(4))\n",
    "print(f\"\\nMedian relative difference (Extrapolation vs. Interpolation) - {metric3} (%):\")\n",
    "print(median_diff.round(4))\n",
    "\n",
    "metrics = pd.DataFrame([avg_diff, median_diff], index=[\"Avg. diff.\", \"Median diff.\"])\n",
    "pivot_with_summary = pd.concat([pivot_rel_diff, metrics])\n",
    "\n",
    "out = pivot_with_summary.reset_index().rename(columns={\"index\": \"task_id\"})\n",
    "out.to_csv(f\"avg_{metric3}_exp_vs_ip_diff.csv\", float_format=\"%.3f\", index=False)\n",
    "\n",
    "latex = out.to_latex(index=False, escape=True, float_format=\"%.3f\")\n",
    "with open(f\"{metric3}_exp_vs_ip_results.tex\", \"w\") as f:\n",
    "    f.write(latex)\n"
   ]
  },
  {
   "cell_type": "markdown",
   "id": "03c2b2ee",
   "metadata": {},
   "source": [
    "Average Difference and Average Relative Difference Accuracy"
   ]
  },
  {
   "cell_type": "code",
   "execution_count": 9,
   "id": "17c75d43",
   "metadata": {},
   "outputs": [],
   "source": [
    "df = pd.read_csv(\"results_full.csv\")\n",
    "metric4 = \"Accuracy\"\n",
    "df4 = df[df[\"metric\"] == metric4]"
   ]
  },
  {
   "cell_type": "code",
   "execution_count": 10,
   "id": "f27bc47b",
   "metadata": {},
   "outputs": [
    {
     "name": "stdout",
     "output_type": "stream",
     "text": [
      "Average relative difference (Extrapolation vs. Interpolation) - Accuracy (%):\n",
      "model\n",
      "Const.        16.95\n",
      "Engression    -0.03\n",
      "FT-Trans.     -1.81\n",
      "GP             1.66\n",
      "GBT            0.61\n",
      "Log. Regr.     0.13\n",
      "MLP            0.60\n",
      "RF            -0.30\n",
      "ResNet         0.86\n",
      "TabPFN         0.16\n",
      "dtype: float64\n",
      "\n",
      "Median relative difference (Extrapolation vs. Interpolation) - Accuracy (%):\n",
      "model\n",
      "Const.        9.88\n",
      "Engression   -0.49\n",
      "FT-Trans.    -1.77\n",
      "GP            0.57\n",
      "GBT          -0.41\n",
      "Log. Regr.   -0.87\n",
      "MLP          -0.28\n",
      "RF           -0.60\n",
      "ResNet       -0.51\n",
      "TabPFN       -0.10\n",
      "dtype: float64\n"
     ]
    }
   ],
   "source": [
    "\n",
    "df4_ip = df4[df4[\"split_method\"] == \"random_split\"]\n",
    "df4_ep = df4[df4[\"split_method\"] != \"random_split\"]\n",
    "\n",
    "pivot_ip = (\n",
    "    df4_ip\n",
    "    .pivot_table(index=\"task_id\", columns=\"model\", values=\"value\", aggfunc=\"mean\")\n",
    "    .rename(columns=rename_map)\n",
    ")\n",
    "pivot_ep = (\n",
    "    df4_ep\n",
    "    .pivot_table(index=\"task_id\", columns=\"model\", values=\"value\", aggfunc=\"mean\")\n",
    "    .rename(columns=rename_map)\n",
    ")\n",
    "\n",
    "pivot_rel_diff = (pivot_ip - pivot_ep).div(pivot_ip) * 100\n",
    "\n",
    "avg_diff    = pivot_rel_diff.mean(axis=0)\n",
    "median_diff = pivot_rel_diff.median(axis=0)\n",
    "\n",
    "print(f\"Average relative difference (Extrapolation vs. Interpolation) - {metric4} (%):\")\n",
    "print(avg_diff.round(2))\n",
    "print(f\"\\nMedian relative difference (Extrapolation vs. Interpolation) - {metric4} (%):\")\n",
    "print(median_diff.round(2))\n",
    "\n",
    "metrics = pd.DataFrame([avg_diff, median_diff], index=[\"Avg. diff.\", \"Median diff.\"])\n",
    "pivot_with_summary = pd.concat([pivot_rel_diff, metrics])\n",
    "\n",
    "out = pivot_with_summary.reset_index().rename(columns={\"index\": \"task_id\"})\n",
    "out.to_csv(f\"avg_{metric4}_exp_vs_ip_diff.csv\", float_format=\"%.3f\", index=False)\n",
    "\n",
    "latex = out.to_latex(index=False, escape=True, float_format=\"%.3f\")\n",
    "with open(f\"{metric4}_exp_vs_ip_results.tex\", \"w\") as f:\n",
    "    f.write(latex)\n"
   ]
  },
  {
   "cell_type": "code",
   "execution_count": null,
   "id": "c6bc6dd6",
   "metadata": {},
   "outputs": [],
   "source": []
  },
  {
   "cell_type": "code",
   "execution_count": null,
   "id": "fc7c00c2",
   "metadata": {},
   "outputs": [],
   "source": []
  }
 ],
 "metadata": {
  "kernelspec": {
   "display_name": "master-thesis",
   "language": "python",
   "name": "python3"
  },
  "language_info": {
   "codemirror_mode": {
    "name": "ipython",
    "version": 3
   },
   "file_extension": ".py",
   "mimetype": "text/x-python",
   "name": "python",
   "nbconvert_exporter": "python",
   "pygments_lexer": "ipython3",
   "version": "3.10.16"
  }
 },
 "nbformat": 4,
 "nbformat_minor": 5
}
