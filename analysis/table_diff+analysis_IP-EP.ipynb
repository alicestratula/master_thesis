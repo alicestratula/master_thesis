{
 "cells": [
  {
   "cell_type": "code",
   "execution_count": 1,
   "id": "76a41ee8",
   "metadata": {},
   "outputs": [],
   "source": [
    "import pandas as pd"
   ]
  },
  {
   "cell_type": "code",
   "execution_count": 2,
   "id": "632ff37d",
   "metadata": {},
   "outputs": [],
   "source": [
    "df = pd.read_csv(\"results_full.csv\")\n",
    "metric = \"RMSE\"\n",
    "df = df[df[\"metric\"] == metric]"
   ]
  },
  {
   "cell_type": "code",
   "execution_count": 4,
   "id": "5807f507",
   "metadata": {},
   "outputs": [],
   "source": [
    "rename_map = {\n",
    "    'ConstantPredictor': 'Const.',\n",
    "    'FTTransformer': 'FT-Trans.',\n",
    "    'LGBMRegressor': 'GBT',\n",
    "    'LGBMClassifier': 'GBT',\n",
    "    'LinearRegressor': 'Lin. Regr.',\n",
    "    'RandomForestRegressor': 'RF',\n",
    "    'RandomForestClassifier': 'RF',\n",
    "    'ResNet': 'ResNet',\n",
    "    'TabPFNRegressor': 'TabPFN',\n",
    "    'TabPFNClassifier': 'TabPFN',\n",
    "    'LogisticRegressor': 'Log. Regr.',\n",
    "    'GPBoost_LogLoss': 'GPBoost',\n",
    "    'GPBoost_Accuracy': 'GPBoost',\n",
    "    'GPBoost_CRPS': 'GPBoost',\n",
    "    'GPBoost_RMSE': 'GPBoost'\n",
    "\n",
    "}\n"
   ]
  },
  {
   "cell_type": "markdown",
   "id": "8e16ab74",
   "metadata": {},
   "source": [
    "Average Difference and Average Relative Difference RMSE"
   ]
  },
  {
   "cell_type": "code",
   "execution_count": null,
   "id": "e545af12",
   "metadata": {},
   "outputs": [
    {
     "name": "stdout",
     "output_type": "stream",
     "text": [
      "Average relative difference (Extrapolation vs. Interpolation) - RMSE (%):\n",
      "model\n",
      "Const.             23.00\n",
      "Engression        637.21\n",
      "FT-Trans.         113.87\n",
      "GPBoost       6533631.96\n",
      "GBT               593.36\n",
      "Lin. Regr.       1760.10\n",
      "MLP               193.32\n",
      "RF                301.15\n",
      "ResNet            120.77\n",
      "TabPFN            347.52\n",
      "dtype: float64\n",
      "\n",
      "Median relative difference (Extrapolation vs. Interpolation) - RMSE (%):\n",
      "model\n",
      "Const.        18.50\n",
      "Engression    76.58\n",
      "FT-Trans.     30.23\n",
      "GPBoost       34.34\n",
      "GBT           26.18\n",
      "Lin. Regr.    51.46\n",
      "MLP           46.35\n",
      "RF            26.11\n",
      "ResNet        58.57\n",
      "TabPFN        21.55\n",
      "dtype: float64\n"
     ]
    }
   ],
   "source": [
    "df_ip = df[df[\"split_method\"] == \"random_split\"]\n",
    "pivot_ip = (\n",
    "    df_ip\n",
    "    .pivot_table(index=\"task_id\", columns=\"model\", values=\"value\", aggfunc=\"mean\")\n",
    "    .rename(columns=rename_map)\n",
    ")\n",
    "\n",
    "df_ep = df[df[\"split_method\"] != \"random_split\"]\n",
    "pivot_ep = (\n",
    "    df_ep\n",
    "    .pivot_table(index=\"task_id\", columns=\"model\", values=\"value\", aggfunc=\"mean\")\n",
    "    .rename(columns=rename_map)\n",
    ")\n",
    "\n",
    "pivot_rel_diff = (pivot_ep - pivot_ip).div(pivot_ip) * 100\n",
    "\n",
    "# 5. Average across tasks\n",
    "avg_diff = pivot_rel_diff.mean(axis=0)\n",
    "median_diff = pivot_rel_diff.median(axis=0)\n",
    "\n",
    "# 6. Print a quick summary\n",
    "print(\"Average relative difference (Extrapolation vs. Interpolation) - RMSE (%):\")\n",
    "print(avg_diff.round(2))\n",
    "\n",
    "print(\"\\nMedian relative difference (Extrapolation vs. Interpolation) - RMSE (%):\")\n",
    "print(median_diff.round(2))\n",
    "\n",
    "# 7. Append the “Avg. diff.” row and write out\n",
    "metrics = pd.DataFrame([avg_diff, median_diff], index=[\"Avg. diff.\", \"Median diff.\"])\n",
    "pivot_with_summary = pd.concat([pivot_rel_diff, metrics])\n",
    "\n",
    "# 8. Reset index & save CSV\n",
    "out = pivot_with_summary.reset_index().rename(columns={\"index\":\"task_id\"})\n",
    "out.to_csv(f\"avg_{metric}_exp_vs_ip_diff.csv\", float_format=\"%.3f\", index=False)\n",
    "\n",
    "# 9. And write out LaTeX\n",
    "latex = out.to_latex(index=False, escape=True, float_format=\"%.3f\")\n",
    "with open(f\"{metric}_exp_vs_ip_results.tex\", \"w\") as f:\n",
    "    f.write(latex)\n"
   ]
  },
  {
   "cell_type": "markdown",
   "id": "a96611d6",
   "metadata": {},
   "source": [
    "Average Difference and Average Relative Difference CRPS"
   ]
  },
  {
   "cell_type": "code",
   "execution_count": null,
   "id": "99640d8a",
   "metadata": {},
   "outputs": [],
   "source": [
    "metric2 = \"CRPS\"\n",
    "df2 = df[df[\"metric\"] == metric2]"
   ]
  },
  {
   "cell_type": "code",
   "execution_count": null,
   "id": "89dce327",
   "metadata": {},
   "outputs": [],
   "source": [
    "df2_ip = df[df[\"split_method\"] == \"random_split\"]\n",
    "pivot_ip = (\n",
    "    df_ip\n",
    "    .pivot_table(index=\"task_id\", columns=\"model\", values=\"value\", aggfunc=\"mean\")\n",
    "    .rename(columns=rename_map)\n",
    ")\n",
    "\n",
    "df_ep = df[df[\"split_method\"] != \"random_split\"]\n",
    "pivot_ep = (\n",
    "    df_ep\n",
    "    .pivot_table(index=\"task_id\", columns=\"model\", values=\"value\", aggfunc=\"mean\")\n",
    "    .rename(columns=rename_map)\n",
    ")\n",
    "\n",
    "pivot_rel_diff = (pivot_ep - pivot_ip).div(pivot_ip) * 100\n",
    "\n",
    "# 5. Average across tasks\n",
    "avg_diff = pivot_rel_diff.mean(axis=0)\n",
    "median_diff = pivot_rel_diff.median(axis=0)\n",
    "\n",
    "# 6. Print a quick summary\n",
    "print(\"Average relative difference (Extrapolation vs. Interpolation) - RMSE (%):\")\n",
    "print(avg_diff.round(2))\n",
    "\n",
    "print(\"\\nMedian relative difference (Extrapolation vs. Interpolation) - RMSE (%):\")\n",
    "print(median_diff.round(2))\n",
    "\n",
    "# 7. Append the “Avg. diff.” row and write out\n",
    "metrics = pd.DataFrame([avg_diff, median_diff], index=[\"Avg. diff.\", \"Median diff.\"])\n",
    "pivot_with_summary = pd.concat([pivot_rel_diff, metrics])\n",
    "\n",
    "# 8. Reset index & save CSV\n",
    "out = pivot_with_summary.reset_index().rename(columns={\"index\":\"task_id\"})\n",
    "out.to_csv(f\"avg_{metric}_exp_vs_ip_diff.csv\", float_format=\"%.3f\", index=False)\n",
    "\n",
    "# 9. And write out LaTeX\n",
    "latex = out.to_latex(index=False, escape=True, float_format=\"%.3f\")\n",
    "with open(f\"{metric}_exp_vs_ip_results.tex\", \"w\") as f:\n",
    "    f.write(latex)\n"
   ]
  },
  {
   "cell_type": "markdown",
   "id": "e454a3ce",
   "metadata": {},
   "source": [
    "Average Difference and Average Relative Difference LOGLOSS"
   ]
  },
  {
   "cell_type": "markdown",
   "id": "03c2b2ee",
   "metadata": {},
   "source": [
    "Average Difference and Average Relative Difference Accuracy"
   ]
  }
 ],
 "metadata": {
  "kernelspec": {
   "display_name": "master-thesis",
   "language": "python",
   "name": "python3"
  },
  "language_info": {
   "codemirror_mode": {
    "name": "ipython",
    "version": 3
   },
   "file_extension": ".py",
   "mimetype": "text/x-python",
   "name": "python",
   "nbconvert_exporter": "python",
   "pygments_lexer": "ipython3",
   "version": "3.10.16"
  }
 },
 "nbformat": 4,
 "nbformat_minor": 5
}
