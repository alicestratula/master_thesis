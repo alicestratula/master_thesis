{
 "cells": [
  {
   "cell_type": "code",
   "execution_count": 1,
   "id": "76a41ee8",
   "metadata": {},
   "outputs": [],
   "source": [
    "import pandas as pd"
   ]
  },
  {
   "cell_type": "code",
   "execution_count": null,
   "id": "f056279b",
   "metadata": {},
   "outputs": [],
   "source": [
    "df = pd.read_csv(\"results_full.csv\")"
   ]
  },
  {
   "cell_type": "code",
   "execution_count": null,
   "id": "632ff37d",
   "metadata": {},
   "outputs": [],
   "source": [
    "\n",
    "metric = \"RMSE\"\n",
    "df1 = df[df[\"metric\"] == metric]"
   ]
  },
  {
   "cell_type": "code",
   "execution_count": 4,
   "id": "5807f507",
   "metadata": {},
   "outputs": [],
   "source": [
    "rename_map = {\n",
    "    'ConstantPredictor': 'Const.',\n",
    "    'FTTransformer': 'FT-Trans.',\n",
    "    'LGBMRegressor': 'GBT',\n",
    "    'LGBMClassifier': 'GBT',\n",
    "    'LinearRegressor': 'Lin. Regr.',\n",
    "    'RandomForestRegressor': 'RF',\n",
    "    'RandomForestClassifier': 'RF',\n",
    "    'ResNet': 'ResNet',\n",
    "    'TabPFNRegressor': 'TabPFN',\n",
    "    'TabPFNClassifier': 'TabPFN',\n",
    "    'LogisticRegressor': 'Log. Regr.',\n",
    "    'GPBoost_LogLoss': 'GPBoost',\n",
    "    'GPBoost_Accuracy': 'GPBoost',\n",
    "    'GPBoost_CRPS': 'GPBoost',\n",
    "    'GPBoost_RMSE': 'GPBoost'\n",
    "\n",
    "}\n"
   ]
  },
  {
   "cell_type": "markdown",
   "id": "8e16ab74",
   "metadata": {},
   "source": [
    "Average Difference and Average Relative Difference RMSE"
   ]
  },
  {
   "cell_type": "code",
   "execution_count": null,
   "id": "e545af12",
   "metadata": {},
   "outputs": [
    {
     "name": "stdout",
     "output_type": "stream",
     "text": [
      "Average relative difference (Extrapolation vs. Interpolation) - RMSE (%):\n",
      "model\n",
      "Const.             23.00\n",
      "Engression        637.21\n",
      "FT-Trans.         113.87\n",
      "GPBoost       6533631.96\n",
      "GBT               593.36\n",
      "Lin. Regr.       1760.10\n",
      "MLP               193.32\n",
      "RF                301.15\n",
      "ResNet            120.77\n",
      "TabPFN            347.52\n",
      "dtype: float64\n",
      "\n",
      "Median relative difference (Extrapolation vs. Interpolation) - RMSE (%):\n",
      "model\n",
      "Const.        18.50\n",
      "Engression    76.58\n",
      "FT-Trans.     30.23\n",
      "GPBoost       34.34\n",
      "GBT           26.18\n",
      "Lin. Regr.    51.46\n",
      "MLP           46.35\n",
      "RF            26.11\n",
      "ResNet        58.57\n",
      "TabPFN        21.55\n",
      "dtype: float64\n"
     ]
    }
   ],
   "source": [
    "df_ip = df[df[\"split_method\"] == \"random_split\"]\n",
    "pivot_ip = (\n",
    "    df_ip\n",
    "    .pivot_table(index=\"task_id\", columns=\"model\", values=\"value\", aggfunc=\"mean\")\n",
    "    .rename(columns=rename_map)\n",
    ")\n",
    "\n",
    "df_ep = df[df[\"split_method\"] != \"random_split\"]\n",
    "pivot_ep = (\n",
    "    df_ep\n",
    "    .pivot_table(index=\"task_id\", columns=\"model\", values=\"value\", aggfunc=\"mean\")\n",
    "    .rename(columns=rename_map)\n",
    ")\n",
    "\n",
    "pivot_rel_diff = (pivot_ep - pivot_ip).div(pivot_ip) * 100\n",
    "\n",
    "# 5. Average across tasks\n",
    "avg_diff = pivot_rel_diff.mean(axis=0)\n",
    "median_diff = pivot_rel_diff.median(axis=0)\n",
    "\n",
    "# 6. Print a quick summary\n",
    "print(\"Average relative difference (Extrapolation vs. Interpolation) - RMSE (%):\")\n",
    "print(avg_diff.round(2))\n",
    "\n",
    "print(\"\\nMedian relative difference (Extrapolation vs. Interpolation) - RMSE (%):\")\n",
    "print(median_diff.round(2))\n",
    "\n",
    "# 7. Append the “Avg. diff.” row and write out\n",
    "metrics = pd.DataFrame([avg_diff, median_diff], index=[\"Avg. diff.\", \"Median diff.\"])\n",
    "pivot_with_summary = pd.concat([pivot_rel_diff, metrics])\n",
    "\n",
    "# 8. Reset index & save CSV\n",
    "out = pivot_with_summary.reset_index().rename(columns={\"index\":\"task_id\"})\n",
    "out.to_csv(f\"avg_{metric}_exp_vs_ip_diff.csv\", float_format=\"%.3f\", index=False)\n",
    "\n",
    "# 9. And write out LaTeX\n",
    "latex = out.to_latex(index=False, escape=True, float_format=\"%.3f\")\n",
    "with open(f\"{metric}_exp_vs_ip_results.tex\", \"w\") as f:\n",
    "    f.write(latex)\n"
   ]
  },
  {
   "cell_type": "markdown",
   "id": "a96611d6",
   "metadata": {},
   "source": [
    "Average Difference and Average Relative Difference CRPS"
   ]
  },
  {
   "cell_type": "code",
   "execution_count": 12,
   "id": "99640d8a",
   "metadata": {},
   "outputs": [],
   "source": [
    "df = pd.read_csv(\"results_full.csv\")\n",
    "metric2 = \"CRPS\"\n",
    "df2 = df[df[\"metric\"] == metric2]"
   ]
  },
  {
   "cell_type": "code",
   "execution_count": 13,
   "id": "89dce327",
   "metadata": {},
   "outputs": [
    {
     "name": "stdout",
     "output_type": "stream",
     "text": [
      "Average relative difference (Extrapolation vs. Interpolation) - CRPS (%):\n",
      "model\n",
      "Const.             29.19\n",
      "DGBT              483.87\n",
      "DRF               475.69\n",
      "Engression        299.19\n",
      "FT-Trans.         106.36\n",
      "GPBoost       6899897.19\n",
      "GBT              1502.45\n",
      "Lin. Regr.        734.06\n",
      "MLP               159.56\n",
      "RF                400.53\n",
      "ResNet            192.62\n",
      "TabPFN            468.96\n",
      "dtype: float64\n",
      "\n",
      "Median relative difference (Extrapolation vs. Interpolation) - CRPS (%):\n",
      "model\n",
      "Const.        22.93\n",
      "DGBT          22.10\n",
      "DRF           28.06\n",
      "Engression    31.35\n",
      "FT-Trans.     46.88\n",
      "GPBoost       41.88\n",
      "GBT           28.21\n",
      "Lin. Regr.    51.42\n",
      "MLP           34.48\n",
      "RF            28.37\n",
      "ResNet        39.57\n",
      "TabPFN        20.96\n",
      "dtype: float64\n"
     ]
    }
   ],
   "source": [
    "\n",
    "df2_ip = df2[df2[\"split_method\"] == \"random_split\"]\n",
    "df2_ep = df2[df2[\"split_method\"] != \"random_split\"]\n",
    "\n",
    "pivot_ip  = (\n",
    "    df2_ip\n",
    "    .pivot_table(index=\"task_id\", columns=\"model\", values=\"value\", aggfunc=\"mean\")\n",
    "    .rename(columns=rename_map)\n",
    ")\n",
    "pivot_ep  = (\n",
    "    df2_ep\n",
    "    .pivot_table(index=\"task_id\", columns=\"model\", values=\"value\", aggfunc=\"mean\")\n",
    "    .rename(columns=rename_map)\n",
    ")\n",
    "\n",
    "pivot_rel_diff = (pivot_ep - pivot_ip).div(pivot_ip) * 100\n",
    "\n",
    "avg_diff    = pivot_rel_diff.mean(axis=0)\n",
    "median_diff = pivot_rel_diff.median(axis=0)\n",
    "\n",
    "print(f\"Average relative difference (Extrapolation vs. Interpolation) - {metric2} (%):\")\n",
    "print(avg_diff.round(2))\n",
    "print(f\"\\nMedian relative difference (Extrapolation vs. Interpolation) - {metric2} (%):\")\n",
    "print(median_diff.round(2))\n",
    "\n",
    "metrics = pd.DataFrame(\n",
    "    [avg_diff, median_diff],\n",
    "    index=[\"Avg. diff.\", \"Median diff.\"]\n",
    ")\n",
    "pivot_with_summary = pd.concat([pivot_rel_diff, metrics])\n",
    "\n",
    "out = pivot_with_summary.reset_index().rename(columns={\"index\":\"task_id\"})\n",
    "out.to_csv(f\"avg_{metric2}_exp_vs_ip_diff.csv\", float_format=\"%.3f\", index=False)\n",
    "\n",
    "latex = out.to_latex(index=False, escape=True, float_format=\"%.3f\")\n",
    "with open(f\"{metric2}_exp_vs_ip_results.tex\", \"w\") as f:\n",
    "    f.write(latex)\n"
   ]
  },
  {
   "cell_type": "markdown",
   "id": "e454a3ce",
   "metadata": {},
   "source": [
    "Average Difference and Average Relative Difference LOGLOSS"
   ]
  },
  {
   "cell_type": "code",
   "execution_count": 14,
   "id": "ac3ddb6b",
   "metadata": {},
   "outputs": [],
   "source": [
    "df = pd.read_csv(\"results_full.csv\")\n",
    "metric3 = \"LogLoss\"\n",
    "df3 = df[df[\"metric\"] == metric3]"
   ]
  },
  {
   "cell_type": "code",
   "execution_count": 16,
   "id": "87985978",
   "metadata": {},
   "outputs": [
    {
     "name": "stdout",
     "output_type": "stream",
     "text": [
      "Average relative difference (Extrapolation vs. Interpolation) - LogLoss (%):\n",
      "model\n",
      "Const.         3.0024\n",
      "Engression     0.3407\n",
      "FT-Trans.      5.7839\n",
      "GPBoost       63.2365\n",
      "GBT            0.0000\n",
      "Log. Regr.    32.5534\n",
      "MLP           13.8209\n",
      "RF             0.0000\n",
      "ResNet        15.1236\n",
      "TabPFN         3.6851\n",
      "dtype: float64\n",
      "\n",
      "Median relative difference (Extrapolation vs. Interpolation) - LogLoss (%):\n",
      "model\n",
      "Const.         0.6119\n",
      "Engression    -0.2603\n",
      "FT-Trans.      1.1028\n",
      "GPBoost        4.6496\n",
      "GBT            0.0000\n",
      "Log. Regr.    10.4749\n",
      "MLP            2.5328\n",
      "RF             0.0000\n",
      "ResNet         6.2639\n",
      "TabPFN        -1.4186\n",
      "dtype: float64\n"
     ]
    }
   ],
   "source": [
    "\n",
    "df3_ip = df3[df3[\"split_method\"] == \"random_split\"]\n",
    "df3_ep = df3[df3[\"split_method\"] != \"random_split\"]\n",
    "\n",
    "pivot_ip = (\n",
    "    df3_ip\n",
    "    .pivot_table(index=\"task_id\", columns=\"model\", values=\"value\", aggfunc=\"mean\")\n",
    "    .rename(columns=rename_map)\n",
    ")\n",
    "pivot_ep = (\n",
    "    df3_ep\n",
    "    .pivot_table(index=\"task_id\", columns=\"model\", values=\"value\", aggfunc=\"mean\")\n",
    "    .rename(columns=rename_map)\n",
    ")\n",
    "\n",
    "pivot_rel_diff = (pivot_ep - pivot_ip).div(pivot_ip) * 100\n",
    "\n",
    "avg_diff    = pivot_rel_diff.mean(axis=0)\n",
    "median_diff = pivot_rel_diff.median(axis=0)\n",
    "\n",
    "print(f\"Average relative difference (Extrapolation vs. Interpolation) - {metric3} (%):\")\n",
    "print(avg_diff.round(4))\n",
    "print(f\"\\nMedian relative difference (Extrapolation vs. Interpolation) - {metric3} (%):\")\n",
    "print(median_diff.round(4))\n",
    "\n",
    "metrics = pd.DataFrame([avg_diff, median_diff], index=[\"Avg. diff.\", \"Median diff.\"])\n",
    "pivot_with_summary = pd.concat([pivot_rel_diff, metrics])\n",
    "\n",
    "out = pivot_with_summary.reset_index().rename(columns={\"index\": \"task_id\"})\n",
    "out.to_csv(f\"avg_{metric3}_exp_vs_ip_diff.csv\", float_format=\"%.3f\", index=False)\n",
    "\n",
    "latex = out.to_latex(index=False, escape=True, float_format=\"%.3f\")\n",
    "with open(f\"{metric3}_exp_vs_ip_results.tex\", \"w\") as f:\n",
    "    f.write(latex)\n"
   ]
  },
  {
   "cell_type": "markdown",
   "id": "03c2b2ee",
   "metadata": {},
   "source": [
    "Average Difference and Average Relative Difference Accuracy"
   ]
  },
  {
   "cell_type": "code",
   "execution_count": 17,
   "id": "17c75d43",
   "metadata": {},
   "outputs": [],
   "source": [
    "df = pd.read_csv(\"results_full.csv\")\n",
    "metric4 = \"Accuracy\"\n",
    "df4 = df[df[\"metric\"] == metric4]"
   ]
  },
  {
   "cell_type": "code",
   "execution_count": 18,
   "id": "f27bc47b",
   "metadata": {},
   "outputs": [
    {
     "name": "stdout",
     "output_type": "stream",
     "text": [
      "Average relative difference (Extrapolation vs. Interpolation) - Accuracy (%):\n",
      "model\n",
      "Const.        16.78\n",
      "Engression    -5.70\n",
      "FT-Trans.     -0.39\n",
      "GPBoost        3.95\n",
      "GBT            0.48\n",
      "Log. Regr.     0.68\n",
      "MLP            1.08\n",
      "RF            -0.12\n",
      "ResNet         1.09\n",
      "TabPFN         0.26\n",
      "dtype: float64\n",
      "\n",
      "Median relative difference (Extrapolation vs. Interpolation) - Accuracy (%):\n",
      "model\n",
      "Const.        10.73\n",
      "Engression     0.03\n",
      "FT-Trans.     -1.03\n",
      "GPBoost        2.75\n",
      "GBT           -0.56\n",
      "Log. Regr.     0.14\n",
      "MLP            0.26\n",
      "RF            -0.87\n",
      "ResNet         0.29\n",
      "TabPFN        -0.41\n",
      "dtype: float64\n"
     ]
    }
   ],
   "source": [
    "\n",
    "df4_ip = df4[df4[\"split_method\"] == \"random_split\"]\n",
    "df4_ep = df4[df4[\"split_method\"] != \"random_split\"]\n",
    "\n",
    "pivot_ip = (\n",
    "    df4_ip\n",
    "    .pivot_table(index=\"task_id\", columns=\"model\", values=\"value\", aggfunc=\"mean\")\n",
    "    .rename(columns=rename_map)\n",
    ")\n",
    "pivot_ep = (\n",
    "    df4_ep\n",
    "    .pivot_table(index=\"task_id\", columns=\"model\", values=\"value\", aggfunc=\"mean\")\n",
    "    .rename(columns=rename_map)\n",
    ")\n",
    "\n",
    "pivot_rel_diff = (pivot_ip - pivot_ep).div(pivot_ip) * 100\n",
    "\n",
    "avg_diff    = pivot_rel_diff.mean(axis=0)\n",
    "median_diff = pivot_rel_diff.median(axis=0)\n",
    "\n",
    "print(f\"Average relative difference (Extrapolation vs. Interpolation) - {metric4} (%):\")\n",
    "print(avg_diff.round(2))\n",
    "print(f\"\\nMedian relative difference (Extrapolation vs. Interpolation) - {metric4} (%):\")\n",
    "print(median_diff.round(2))\n",
    "\n",
    "metrics = pd.DataFrame([avg_diff, median_diff], index=[\"Avg. diff.\", \"Median diff.\"])\n",
    "pivot_with_summary = pd.concat([pivot_rel_diff, metrics])\n",
    "\n",
    "out = pivot_with_summary.reset_index().rename(columns={\"index\": \"task_id\"})\n",
    "out.to_csv(f\"avg_{metric4}_exp_vs_ip_diff.csv\", float_format=\"%.3f\", index=False)\n",
    "\n",
    "latex = out.to_latex(index=False, escape=True, float_format=\"%.3f\")\n",
    "with open(f\"{metric4}_exp_vs_ip_results.tex\", \"w\") as f:\n",
    "    f.write(latex)\n"
   ]
  }
 ],
 "metadata": {
  "kernelspec": {
   "display_name": "master-thesis",
   "language": "python",
   "name": "python3"
  },
  "language_info": {
   "codemirror_mode": {
    "name": "ipython",
    "version": 3
   },
   "file_extension": ".py",
   "mimetype": "text/x-python",
   "name": "python",
   "nbconvert_exporter": "python",
   "pygments_lexer": "ipython3",
   "version": "3.10.16"
  }
 },
 "nbformat": 4,
 "nbformat_minor": 5
}
